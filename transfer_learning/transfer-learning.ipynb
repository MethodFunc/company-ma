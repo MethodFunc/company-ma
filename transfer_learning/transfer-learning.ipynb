{
 "cells": [
  {
   "cell_type": "code",
   "execution_count": 1,
   "metadata": {},
   "outputs": [],
   "source": [
    "import cv2\n",
    "import os\n",
    "import fnmatch\n",
    "import random\n",
    "import tensorflow as tf\n",
    "import numpy as np\n",
    "import matplotlib.pyplot as plt"
   ]
  },
  {
   "cell_type": "code",
   "execution_count": 2,
   "metadata": {},
   "outputs": [],
   "source": [
    "from roi import setting_roi\n",
    "from tensorflow.keras.layers import Dense, Dropout, Conv2D, MaxPooling2D, BatchNormalization, Activation\n",
    "from tensorflow.keras.utils import to_categorical\n",
    "from tensorflow.keras.models import Sequential, Model, load_model\n",
    "from tensorflow.keras.callbacks import ModelCheckpoint, EarlyStopping\n",
    "from datetime import datetime"
   ]
  },
  {
   "cell_type": "code",
   "execution_count": 3,
   "metadata": {},
   "outputs": [],
   "source": [
    "class datamaker:\n",
    "    def __init__(self, source_path, categories, roi, train_sample):\n",
    "        self.source_path = source_path\n",
    "        self.categories = categories\n",
    "        self.roi = roi\n",
    "        self.train_sample = train_sample\n",
    "        self.train_image, self.train_label, self.val_image, self.val_label = [], [], [], []\n",
    "        self.train_set, self.val_set = [], []\n",
    "\n",
    "        self.validation_sample = 0.1\n",
    "        self.width, self.height = 150, 150\n",
    "\n",
    "    def __call__(self, *args, **kwargs):\n",
    "        self.load_set()\n",
    "\n",
    "        self.train_val_set(self.train_set, self.train_image, self.train_label)\n",
    "        self.train_val_set(self.val_set, self.val_image, self.val_label)\n",
    "\n",
    "        return (self.train_image, self.val_image, self.train_label, self.val_label)\n",
    "\n",
    "    def load_set(self):\n",
    "        for cat in self.categories:\n",
    "            path = f\"{self.source_path}/{cat}\"\n",
    "\n",
    "            if not os.path.isdir(path):\n",
    "                print(f\"{cat} is not exists. please check your category or directory\")\n",
    "                break\n",
    "\n",
    "            img_file_list = fnmatch.filter(os.listdir(path), \"*.jpg\")\n",
    "            random.shuffle(img_file_list)\n",
    "\n",
    "            if len(img_file_list) < self.train_sample:\n",
    "                print(\"Insufficient dataset.\")\n",
    "                break\n",
    "\n",
    "            img_file_list = img_file_list[:self.train_sample]\n",
    "            # print(img_file_list)\n",
    "\n",
    "            val_number = int(self.train_sample * self.validation_sample)\n",
    "            train_number = self.train_sample - val_number\n",
    "\n",
    "            label = categories.index(cat)\n",
    "\n",
    "            for img in img_file_list[:train_number]:\n",
    "                img_path = f\"{path}/{img}\"\n",
    "                self.train_set.append([img_path, label])\n",
    "\n",
    "            for img in img_file_list[train_number:]:\n",
    "                img_path = f\"{path}/{img}\"\n",
    "                self.val_set.append([img_path, label])\n",
    "\n",
    "        random.shuffle(self.train_set)\n",
    "        random.shuffle(self.val_set)\n",
    "\n",
    "    def train_val_set(self, dataset, img_list, label_list):\n",
    "        for imgs, label in dataset:\n",
    "            img = cv2.imread(imgs)\n",
    "            for (i, j) in self.roi:\n",
    "                x, y = i * self.width, j * self.height\n",
    "                roi_img = img[y:y + self.height, x:x + self.width]\n",
    "\n",
    "                img_list.append(roi_img)\n",
    "                label_list.append(label)"
   ]
  },
  {
   "cell_type": "code",
   "execution_count": 33,
   "metadata": {},
   "outputs": [],
   "source": [
    "source_path = './201'\n",
    "categories = ['dry_day', 'dry_night', 'wet_day', 'wet_night']\n",
    "roi = setting_roi('33A_201')\n",
    "# roi = [(0, 5), (0, 7), (0, 8), (0, 9), (1, 4), (1, 5), (1, 6), (1, 7), (1, 8), (2, 5), (2, 6), (2, 10), (3, 3), (3, 5), (3, 9), (4, 7)]\n",
    "train_sample = 35"
   ]
  },
  {
   "cell_type": "code",
   "execution_count": 34,
   "metadata": {},
   "outputs": [],
   "source": [
    "loaded = datamaker(source_path=source_path, categories=categories, roi=roi, train_sample=train_sample)\n",
    "(x_train, x_test, y_train, y_test) = loaded()"
   ]
  },
  {
   "cell_type": "code",
   "execution_count": 35,
   "metadata": {},
   "outputs": [],
   "source": [
    "x_train = np.array(x_train) / 255.0\n",
    "x_test = np.array(x_test) / 255.0\n",
    "y_train = to_categorical(y_train, len(categories))\n",
    "y_test = to_categorical(y_test, len(categories))"
   ]
  },
  {
   "cell_type": "code",
   "execution_count": 7,
   "metadata": {},
   "outputs": [
    {
     "data": {
      "text/plain": [
       "16"
      ]
     },
     "execution_count": 7,
     "metadata": {},
     "output_type": "execute_result"
    }
   ],
   "source": [
    "len(roi)"
   ]
  },
  {
   "cell_type": "code",
   "execution_count": 36,
   "metadata": {},
   "outputs": [],
   "source": [
    "model = load_model('./model/tfl_13.tf/')"
   ]
  },
  {
   "cell_type": "code",
   "execution_count": 37,
   "metadata": {},
   "outputs": [],
   "source": [
    "new_model = Sequential(model.layers[:-1])"
   ]
  },
  {
   "cell_type": "code",
   "execution_count": 38,
   "metadata": {},
   "outputs": [],
   "source": [
    "new_model.add(Dense(len(categories), activation='softmax'))"
   ]
  },
  {
   "cell_type": "code",
   "execution_count": 39,
   "metadata": {},
   "outputs": [],
   "source": [
    "for layer in new_model.layers[:-1]:\n",
    "    layer.trainable = False"
   ]
  },
  {
   "cell_type": "code",
   "execution_count": 40,
   "metadata": {},
   "outputs": [
    {
     "name": "stdout",
     "output_type": "stream",
     "text": [
      "Model: \"sequential_1\"\n",
      "_________________________________________________________________\n",
      "Layer (type)                 Output Shape              Param #   \n",
      "=================================================================\n",
      "conv2d (Conv2D)              (None, 148, 148, 16)      448       \n",
      "_________________________________________________________________\n",
      "max_pooling2d (MaxPooling2D) (None, 74, 74, 16)        0         \n",
      "_________________________________________________________________\n",
      "conv2d_1 (Conv2D)            (None, 72, 72, 32)        4640      \n",
      "_________________________________________________________________\n",
      "max_pooling2d_1 (MaxPooling2 (None, 36, 36, 32)        0         \n",
      "_________________________________________________________________\n",
      "dropout_a (Dropout)          (None, 36, 36, 32)        0         \n",
      "_________________________________________________________________\n",
      "flatten (Flatten)            (None, 41472)             0         \n",
      "_________________________________________________________________\n",
      "dense_a (Dense)              (None, 64)                2654272   \n",
      "_________________________________________________________________\n",
      "dropout_b (Dropout)          (None, 64)                0         \n",
      "_________________________________________________________________\n",
      "dense_b (Dense)              (None, 32)                2080      \n",
      "_________________________________________________________________\n",
      "dropout_c (Dropout)          (None, 32)                0         \n",
      "_________________________________________________________________\n",
      "dense_1 (Dense)              (None, 4)                 132       \n",
      "=================================================================\n",
      "Total params: 2,661,572\n",
      "Trainable params: 132\n",
      "Non-trainable params: 2,661,440\n",
      "_________________________________________________________________\n"
     ]
    }
   ],
   "source": [
    "new_model.summary()"
   ]
  },
  {
   "cell_type": "code",
   "execution_count": 41,
   "metadata": {},
   "outputs": [],
   "source": [
    "new_model.compile(loss = \"categorical_crossentropy\", optimizer='adam', metrics=['accuracy'])"
   ]
  },
  {
   "cell_type": "code",
   "execution_count": 42,
   "metadata": {
    "scrolled": true,
    "tags": []
   },
   "outputs": [
    {
     "name": "stdout",
     "output_type": "stream",
     "text": [
      "Train on 2048 samples, validate on 192 samples\n",
      "Epoch 1/100\n",
      "2048/2048 [==============================] - 5s 2ms/sample - loss: 19.0180 - accuracy: 0.3037 - val_loss: 8.1163 - val_accuracy: 0.3646\n",
      "Epoch 2/100\n",
      "2048/2048 [==============================] - 1s 656us/sample - loss: 14.4400 - accuracy: 0.3530 - val_loss: 6.5017 - val_accuracy: 0.3698\n",
      "Epoch 3/100\n",
      "2048/2048 [==============================] - 1s 650us/sample - loss: 12.8910 - accuracy: 0.3638 - val_loss: 5.2272 - val_accuracy: 0.3906\n",
      "Epoch 4/100\n",
      "2048/2048 [==============================] - 1s 660us/sample - loss: 11.7794 - accuracy: 0.3818 - val_loss: 4.3638 - val_accuracy: 0.4219\n",
      "Epoch 5/100\n",
      "2048/2048 [==============================] - 1s 660us/sample - loss: 10.0257 - accuracy: 0.4136 - val_loss: 3.9408 - val_accuracy: 0.4115\n",
      "Epoch 6/100\n",
      "2048/2048 [==============================] - 1s 651us/sample - loss: 9.9283 - accuracy: 0.4224 - val_loss: 3.6857 - val_accuracy: 0.4271\n",
      "Epoch 7/100\n",
      "2048/2048 [==============================] - 1s 651us/sample - loss: 8.5432 - accuracy: 0.4556 - val_loss: 3.4810 - val_accuracy: 0.4271\n",
      "Epoch 8/100\n",
      "2048/2048 [==============================] - 1s 659us/sample - loss: 7.7446 - accuracy: 0.4551 - val_loss: 3.4503 - val_accuracy: 0.4323\n",
      "Epoch 9/100\n",
      "2048/2048 [==============================] - 1s 651us/sample - loss: 7.2417 - accuracy: 0.4707 - val_loss: 3.2448 - val_accuracy: 0.4427\n",
      "Epoch 10/100\n",
      "2048/2048 [==============================] - 1s 643us/sample - loss: 8.0224 - accuracy: 0.4741 - val_loss: 3.0390 - val_accuracy: 0.4219\n",
      "Epoch 11/100\n",
      "2048/2048 [==============================] - 1s 651us/sample - loss: 7.5115 - accuracy: 0.4858 - val_loss: 3.0086 - val_accuracy: 0.4219\n",
      "Epoch 12/100\n",
      "2048/2048 [==============================] - 1s 673us/sample - loss: 6.6024 - accuracy: 0.4971 - val_loss: 2.9621 - val_accuracy: 0.4323\n",
      "Epoch 13/100\n",
      "2048/2048 [==============================] - 1s 661us/sample - loss: 6.6370 - accuracy: 0.5005 - val_loss: 2.9270 - val_accuracy: 0.4531\n",
      "Epoch 14/100\n",
      "2048/2048 [==============================] - 1s 653us/sample - loss: 6.1143 - accuracy: 0.5078 - val_loss: 2.7281 - val_accuracy: 0.4479\n",
      "Epoch 15/100\n",
      "2048/2048 [==============================] - 1s 657us/sample - loss: 6.6777 - accuracy: 0.4951 - val_loss: 2.6090 - val_accuracy: 0.4427\n",
      "Epoch 16/100\n",
      "2048/2048 [==============================] - 1s 667us/sample - loss: 6.0554 - accuracy: 0.4922 - val_loss: 2.5792 - val_accuracy: 0.4479\n",
      "Epoch 17/100\n",
      "2048/2048 [==============================] - 1s 667us/sample - loss: 5.2844 - accuracy: 0.5103 - val_loss: 2.3498 - val_accuracy: 0.4688\n",
      "Epoch 18/100\n",
      "2048/2048 [==============================] - 1s 660us/sample - loss: 5.5233 - accuracy: 0.5210 - val_loss: 2.2932 - val_accuracy: 0.4740\n",
      "Epoch 19/100\n",
      "2048/2048 [==============================] - 1s 658us/sample - loss: 5.1298 - accuracy: 0.5195 - val_loss: 2.2196 - val_accuracy: 0.4844\n",
      "Epoch 20/100\n",
      "2048/2048 [==============================] - 1s 652us/sample - loss: 5.1954 - accuracy: 0.5122 - val_loss: 2.1578 - val_accuracy: 0.4844\n",
      "Epoch 21/100\n",
      "2048/2048 [==============================] - 1s 660us/sample - loss: 4.7843 - accuracy: 0.5396 - val_loss: 2.1421 - val_accuracy: 0.5104\n",
      "Epoch 22/100\n",
      "2048/2048 [==============================] - 1s 650us/sample - loss: 4.3182 - accuracy: 0.5366 - val_loss: 2.0189 - val_accuracy: 0.4896\n",
      "Epoch 23/100\n",
      "2048/2048 [==============================] - 1s 651us/sample - loss: 4.5753 - accuracy: 0.5464 - val_loss: 1.9555 - val_accuracy: 0.5208\n",
      "Epoch 24/100\n",
      "2048/2048 [==============================] - 1s 659us/sample - loss: 4.3565 - accuracy: 0.5225 - val_loss: 1.9135 - val_accuracy: 0.5156\n",
      "Epoch 25/100\n",
      "2048/2048 [==============================] - 1s 651us/sample - loss: 4.2869 - accuracy: 0.5444 - val_loss: 1.7993 - val_accuracy: 0.5260\n",
      "Epoch 26/100\n",
      "2048/2048 [==============================] - 1s 651us/sample - loss: 4.1139 - accuracy: 0.5469 - val_loss: 1.7908 - val_accuracy: 0.5312\n",
      "Epoch 27/100\n",
      "2048/2048 [==============================] - ETA: 0s - loss: 4.1061 - accuracy: 0.53 - 1s 663us/sample - loss: 4.0592 - accuracy: 0.5322 - val_loss: 1.7697 - val_accuracy: 0.5417\n",
      "Epoch 28/100\n",
      "2048/2048 [==============================] - 1s 647us/sample - loss: 3.6677 - accuracy: 0.5439 - val_loss: 1.7305 - val_accuracy: 0.5417\n",
      "Epoch 29/100\n",
      "2048/2048 [==============================] - 1s 659us/sample - loss: 3.2286 - accuracy: 0.5483 - val_loss: 1.6380 - val_accuracy: 0.5573\n",
      "Epoch 30/100\n",
      "2048/2048 [==============================] - 1s 651us/sample - loss: 3.4909 - accuracy: 0.5420 - val_loss: 1.6103 - val_accuracy: 0.5469\n",
      "Epoch 31/100\n",
      "2048/2048 [==============================] - 1s 660us/sample - loss: 3.0542 - accuracy: 0.5508 - val_loss: 1.6154 - val_accuracy: 0.5677\n",
      "Epoch 32/100\n",
      "2048/2048 [==============================] - 1s 651us/sample - loss: 3.1987 - accuracy: 0.5601 - val_loss: 1.6067 - val_accuracy: 0.5677\n",
      "Epoch 33/100\n",
      "2048/2048 [==============================] - 1s 651us/sample - loss: 3.0850 - accuracy: 0.5654 - val_loss: 1.6349 - val_accuracy: 0.5729\n",
      "Epoch 34/100\n",
      "2048/2048 [==============================] - 1s 659us/sample - loss: 3.0420 - accuracy: 0.5684 - val_loss: 1.5805 - val_accuracy: 0.5573\n",
      "Epoch 35/100\n",
      "2048/2048 [==============================] - 1s 659us/sample - loss: 2.7929 - accuracy: 0.5601 - val_loss: 1.4744 - val_accuracy: 0.5677\n",
      "Epoch 36/100\n",
      "2048/2048 [==============================] - 1s 651us/sample - loss: 2.9088 - accuracy: 0.5444 - val_loss: 1.4576 - val_accuracy: 0.5781\n",
      "Epoch 37/100\n",
      "2048/2048 [==============================] - 1s 651us/sample - loss: 2.9249 - accuracy: 0.5630 - val_loss: 1.3867 - val_accuracy: 0.5833\n",
      "Epoch 38/100\n",
      "2048/2048 [==============================] - 1s 659us/sample - loss: 2.5181 - accuracy: 0.5571 - val_loss: 1.3491 - val_accuracy: 0.6094\n",
      "Epoch 39/100\n",
      "2048/2048 [==============================] - 1s 659us/sample - loss: 2.3771 - accuracy: 0.5566 - val_loss: 1.3378 - val_accuracy: 0.5833\n",
      "Epoch 40/100\n",
      "2048/2048 [==============================] - 1s 659us/sample - loss: 2.4171 - accuracy: 0.5674 - val_loss: 1.3811 - val_accuracy: 0.5677\n",
      "Epoch 41/100\n",
      "2048/2048 [==============================] - 1s 652us/sample - loss: 2.3667 - accuracy: 0.5718 - val_loss: 1.2955 - val_accuracy: 0.5781\n",
      "Epoch 42/100\n",
      "2048/2048 [==============================] - 1s 658us/sample - loss: 2.0167 - accuracy: 0.5591 - val_loss: 1.2473 - val_accuracy: 0.5938\n",
      "Epoch 43/100\n",
      "2048/2048 [==============================] - 1s 652us/sample - loss: 2.0484 - accuracy: 0.5752 - val_loss: 1.2251 - val_accuracy: 0.5990\n",
      "Epoch 44/100\n",
      "2048/2048 [==============================] - 1s 659us/sample - loss: 2.2566 - accuracy: 0.5767 - val_loss: 1.2255 - val_accuracy: 0.6146\n",
      "Epoch 45/100\n",
      "2048/2048 [==============================] - 1s 651us/sample - loss: 2.0307 - accuracy: 0.5737 - val_loss: 1.2415 - val_accuracy: 0.6094\n",
      "Epoch 46/100\n",
      "2048/2048 [==============================] - 1s 659us/sample - loss: 1.9987 - accuracy: 0.5845 - val_loss: 1.1726 - val_accuracy: 0.6094\n",
      "Epoch 47/100\n",
      "2048/2048 [==============================] - 1s 652us/sample - loss: 1.6798 - accuracy: 0.5845 - val_loss: 1.1221 - val_accuracy: 0.6458\n",
      "Epoch 48/100\n",
      "2048/2048 [==============================] - 1s 667us/sample - loss: 1.8181 - accuracy: 0.6147 - val_loss: 1.1733 - val_accuracy: 0.6094\n",
      "Epoch 49/100\n",
      "2048/2048 [==============================] - 1s 651us/sample - loss: 1.7768 - accuracy: 0.6074 - val_loss: 1.1006 - val_accuracy: 0.6458\n",
      "Epoch 50/100\n",
      "2048/2048 [==============================] - 1s 660us/sample - loss: 1.7098 - accuracy: 0.5859 - val_loss: 1.1883 - val_accuracy: 0.6146\n",
      "Epoch 51/100\n",
      "2048/2048 [==============================] - 1s 674us/sample - loss: 1.7308 - accuracy: 0.6069 - val_loss: 1.1701 - val_accuracy: 0.5990\n",
      "Epoch 52/100\n",
      "2048/2048 [==============================] - 1s 659us/sample - loss: 1.5141 - accuracy: 0.6216 - val_loss: 1.0903 - val_accuracy: 0.6615\n",
      "Epoch 53/100\n",
      "2048/2048 [==============================] - 1s 660us/sample - loss: 1.5729 - accuracy: 0.6006 - val_loss: 1.1044 - val_accuracy: 0.6094\n",
      "Epoch 54/100\n",
      "2048/2048 [==============================] - 1s 667us/sample - loss: 1.5594 - accuracy: 0.6040 - val_loss: 1.0623 - val_accuracy: 0.6146\n",
      "Epoch 55/100\n",
      "2048/2048 [==============================] - 1s 658us/sample - loss: 1.5622 - accuracy: 0.6133 - val_loss: 1.0640 - val_accuracy: 0.6042\n",
      "Epoch 56/100\n",
      "2048/2048 [==============================] - 1s 660us/sample - loss: 1.4025 - accuracy: 0.6284 - val_loss: 1.0569 - val_accuracy: 0.6146\n",
      "Epoch 57/100\n",
      "2048/2048 [==============================] - 1s 659us/sample - loss: 1.2853 - accuracy: 0.6118 - val_loss: 1.0643 - val_accuracy: 0.5781\n",
      "Epoch 58/100\n",
      "2048/2048 [==============================] - 1s 668us/sample - loss: 1.4746 - accuracy: 0.5952 - val_loss: 1.0245 - val_accuracy: 0.6250\n",
      "Epoch 59/100\n",
      "2048/2048 [==============================] - 1s 667us/sample - loss: 1.3245 - accuracy: 0.6074 - val_loss: 1.0277 - val_accuracy: 0.6302\n",
      "Epoch 60/100\n",
      "2048/2048 [==============================] - 1s 659us/sample - loss: 1.4457 - accuracy: 0.6162 - val_loss: 1.0227 - val_accuracy: 0.6042\n",
      "Epoch 61/100\n",
      "2048/2048 [==============================] - 1s 659us/sample - loss: 1.4059 - accuracy: 0.6172 - val_loss: 1.0401 - val_accuracy: 0.6146\n",
      "Epoch 62/100\n",
      "2048/2048 [==============================] - 1s 666us/sample - loss: 1.2348 - accuracy: 0.6274 - val_loss: 1.0117 - val_accuracy: 0.6302\n",
      "Epoch 63/100\n",
      "2048/2048 [==============================] - 1s 660us/sample - loss: 1.4138 - accuracy: 0.6235 - val_loss: 1.0107 - val_accuracy: 0.5938\n",
      "Epoch 64/100\n",
      "2048/2048 [==============================] - 1s 660us/sample - loss: 1.2357 - accuracy: 0.6191 - val_loss: 1.0403 - val_accuracy: 0.6198\n",
      "Epoch 65/100\n",
      "2048/2048 [==============================] - 1s 667us/sample - loss: 1.1614 - accuracy: 0.6450 - val_loss: 1.0212 - val_accuracy: 0.6198\n",
      "Epoch 66/100\n",
      "2048/2048 [==============================] - 1s 652us/sample - loss: 1.2375 - accuracy: 0.6226 - val_loss: 1.0221 - val_accuracy: 0.6198\n",
      "Epoch 67/100\n",
      "2048/2048 [==============================] - 1s 660us/sample - loss: 1.2572 - accuracy: 0.6089 - val_loss: 1.0434 - val_accuracy: 0.5938\n",
      "Epoch 68/100\n",
      "2048/2048 [==============================] - 1s 666us/sample - loss: 1.1588 - accuracy: 0.6592 - val_loss: 0.9992 - val_accuracy: 0.6146\n",
      "Epoch 69/100\n",
      "2048/2048 [==============================] - 1s 660us/sample - loss: 1.1686 - accuracy: 0.6504 - val_loss: 0.9833 - val_accuracy: 0.6146\n",
      "Epoch 70/100\n",
      "2048/2048 [==============================] - 1s 660us/sample - loss: 1.1022 - accuracy: 0.6411 - val_loss: 0.9956 - val_accuracy: 0.6146\n",
      "Epoch 71/100\n",
      "2048/2048 [==============================] - 1s 660us/sample - loss: 1.0806 - accuracy: 0.6191 - val_loss: 1.0207 - val_accuracy: 0.5990\n",
      "Epoch 72/100\n",
      "2048/2048 [==============================] - 1s 667us/sample - loss: 1.1097 - accuracy: 0.6196 - val_loss: 0.9830 - val_accuracy: 0.6146\n",
      "Epoch 73/100\n",
      "2048/2048 [==============================] - 1s 659us/sample - loss: 1.1262 - accuracy: 0.6235 - val_loss: 0.9943 - val_accuracy: 0.5833\n",
      "Epoch 74/100\n",
      "2048/2048 [==============================] - 1s 659us/sample - loss: 1.1546 - accuracy: 0.6123 - val_loss: 0.9895 - val_accuracy: 0.6146\n",
      "Epoch 75/100\n",
      "2048/2048 [==============================] - 1s 660us/sample - loss: 1.0963 - accuracy: 0.6133 - val_loss: 0.9821 - val_accuracy: 0.6094\n",
      "Epoch 76/100\n",
      "2048/2048 [==============================] - 1s 667us/sample - loss: 1.0400 - accuracy: 0.6274 - val_loss: 0.9903 - val_accuracy: 0.6042\n",
      "Epoch 77/100\n",
      "2048/2048 [==============================] - 1s 650us/sample - loss: 1.1035 - accuracy: 0.6279 - val_loss: 0.9966 - val_accuracy: 0.6094\n",
      "Epoch 78/100\n",
      "2048/2048 [==============================] - 1s 659us/sample - loss: 1.0376 - accuracy: 0.6289 - val_loss: 0.9596 - val_accuracy: 0.6042\n",
      "Epoch 79/100\n",
      "2048/2048 [==============================] - 1s 667us/sample - loss: 1.0203 - accuracy: 0.6299 - val_loss: 0.9721 - val_accuracy: 0.6094\n",
      "Epoch 80/100\n",
      "2048/2048 [==============================] - 1s 659us/sample - loss: 1.0099 - accuracy: 0.6201 - val_loss: 0.9523 - val_accuracy: 0.6094\n",
      "Epoch 81/100\n",
      "2048/2048 [==============================] - 1s 669us/sample - loss: 0.9858 - accuracy: 0.6421 - val_loss: 0.9362 - val_accuracy: 0.6250\n",
      "Epoch 82/100\n",
      "2048/2048 [==============================] - 1s 657us/sample - loss: 0.9512 - accuracy: 0.6387 - val_loss: 0.9265 - val_accuracy: 0.6354\n",
      "Epoch 83/100\n",
      "2048/2048 [==============================] - 1s 668us/sample - loss: 0.9359 - accuracy: 0.6343 - val_loss: 0.9268 - val_accuracy: 0.6771\n",
      "Epoch 84/100\n",
      "2048/2048 [==============================] - 1s 652us/sample - loss: 1.0020 - accuracy: 0.6235 - val_loss: 0.9251 - val_accuracy: 0.6771\n",
      "Epoch 85/100\n",
      "2048/2048 [==============================] - 1s 660us/sample - loss: 0.9484 - accuracy: 0.6328 - val_loss: 0.9279 - val_accuracy: 0.6042\n",
      "Epoch 86/100\n",
      "2048/2048 [==============================] - 1s 660us/sample - loss: 0.9143 - accuracy: 0.6460 - val_loss: 0.9194 - val_accuracy: 0.6354\n",
      "Epoch 87/100\n",
      "2048/2048 [==============================] - 1s 666us/sample - loss: 0.8963 - accuracy: 0.6387 - val_loss: 0.9135 - val_accuracy: 0.6354\n",
      "Epoch 88/100\n",
      "2048/2048 [==============================] - 1s 667us/sample - loss: 0.9094 - accuracy: 0.6436 - val_loss: 0.9103 - val_accuracy: 0.6302\n",
      "Epoch 89/100\n",
      "2048/2048 [==============================] - 1s 659us/sample - loss: 0.9596 - accuracy: 0.6475 - val_loss: 0.9065 - val_accuracy: 0.6250\n",
      "Epoch 90/100\n",
      "2048/2048 [==============================] - 1s 659us/sample - loss: 0.8944 - accuracy: 0.6562 - val_loss: 0.9209 - val_accuracy: 0.6354\n",
      "Epoch 91/100\n",
      "2048/2048 [==============================] - 1s 660us/sample - loss: 0.8981 - accuracy: 0.6401 - val_loss: 0.9065 - val_accuracy: 0.6354\n",
      "Epoch 92/100\n",
      "2048/2048 [==============================] - 1s 659us/sample - loss: 0.8798 - accuracy: 0.6387 - val_loss: 0.9088 - val_accuracy: 0.6406\n",
      "Epoch 93/100\n",
      "2048/2048 [==============================] - 1s 659us/sample - loss: 0.8601 - accuracy: 0.6543 - val_loss: 0.9259 - val_accuracy: 0.6042\n",
      "Epoch 94/100\n",
      "2048/2048 [==============================] - 1s 668us/sample - loss: 0.8691 - accuracy: 0.6475 - val_loss: 0.9035 - val_accuracy: 0.6458\n",
      "Epoch 95/100\n",
      "2048/2048 [==============================] - 1s 659us/sample - loss: 0.8511 - accuracy: 0.6450 - val_loss: 0.9069 - val_accuracy: 0.6198\n",
      "Epoch 96/100\n",
      "2048/2048 [==============================] - 1s 659us/sample - loss: 0.8867 - accuracy: 0.6465 - val_loss: 0.8970 - val_accuracy: 0.6458\n",
      "Epoch 97/100\n",
      "2048/2048 [==============================] - 1s 668us/sample - loss: 0.8401 - accuracy: 0.6572 - val_loss: 0.8918 - val_accuracy: 0.6458\n",
      "Epoch 98/100\n",
      "2048/2048 [==============================] - 1s 658us/sample - loss: 0.8475 - accuracy: 0.6270 - val_loss: 0.8782 - val_accuracy: 0.6719\n",
      "Epoch 99/100\n",
      "2048/2048 [==============================] - 1s 660us/sample - loss: 0.8516 - accuracy: 0.6377 - val_loss: 0.8971 - val_accuracy: 0.6094\n",
      "Epoch 100/100\n",
      "2048/2048 [==============================] - 1s 627us/sample - loss: 0.8403 - accuracy: 0.6509 - val_loss: 0.9045 - val_accuracy: 0.6094\n"
     ]
    }
   ],
   "source": [
    "history = new_model.fit(x_train, y_train, epochs=100, batch_size=128, validation_data=(x_test, y_test))"
   ]
  },
  {
   "cell_type": "code",
   "execution_count": 43,
   "metadata": {},
   "outputs": [
    {
     "data": {
      "image/png": "[encoded data removed]",
      "text/plain": [
       "<Figure size 432x288 with 2 Axes>"
      ]
     },
     "metadata": {
      "needs_background": "light"
     },
     "output_type": "display_data"
    }
   ],
   "source": [
    "fig, loss_ax = plt.subplots()\n",
    "acc_ax = loss_ax.twinx()\n",
    "loss_ax.plot(history.history['loss'], 'y', label='Train loss')\n",
    "loss_ax.plot(history.history['val_loss'], 'r', label='Val loss')\n",
    "loss_ax.set_xlabel(\"epochs\")\n",
    "loss_ax.set_ylabel(\"loss\")\n",
    "loss_ax.legend(loc='upper right')\n",
    "\n",
    "acc_ax.plot(history.history['accuracy'], 'b', label = 'Train acc')\n",
    "acc_ax.plot(history.history['val_accuracy'], 'g', label = 'Val acc')\n",
    "acc_ax.set_xlabel(\"Accuracy\")\n",
    "acc_ax.legend(loc=\"upper left\")\n",
    "\n",
    "plt.show()"
   ]
  },
  {
   "cell_type": "code",
   "execution_count": 44,
   "metadata": {},
   "outputs": [],
   "source": [
    "for layer in new_model.layers[:-1]:\n",
    "    layer.trainable = True"
   ]
  },
  {
   "cell_type": "code",
   "execution_count": 45,
   "metadata": {},
   "outputs": [],
   "source": [
    "new_model.compile(loss = \"categorical_crossentropy\", optimizer='adam', metrics=['accuracy'])"
   ]
  },
  {
   "cell_type": "code",
   "execution_count": 46,
   "metadata": {},
   "outputs": [],
   "source": [
    "start = datetime.now()\n",
    "ck = ModelCheckpoint(f'{start.strftime(\"%Y%m%d_%H%M%S\")}_transfer_learning_{train_sample}_2.tf', save_best_only=True)"
   ]
  },
  {
   "cell_type": "code",
   "execution_count": 47,
   "metadata": {
    "tags": []
   },
   "outputs": [
    {
     "name": "stdout",
     "output_type": "stream",
     "text": [
      "Train on 2048 samples, validate on 192 samples\n",
      "Epoch 1/100\n",
      "1920/2048 [===========================>..] - ETA: 0s - loss: 0.8619 - accuracy: 0.6187INFO:tensorflow:Assets written to: 20210429_101124_transfer_learning_35_2.tf\\assets\n",
      "2048/2048 [==============================] - 7s 3ms/sample - loss: 0.8560 - accuracy: 0.6221 - val_loss: 1.0488 - val_accuracy: 0.5885\n",
      "Epoch 2/100\n",
      "1920/2048 [===========================>..] - ETA: 0s - loss: 0.7349 - accuracy: 0.6625INFO:tensorflow:Assets written to: 20210429_101124_transfer_learning_35_2.tf\\assets\n",
      "2048/2048 [==============================] - 5s 3ms/sample - loss: 0.7345 - accuracy: 0.6592 - val_loss: 0.8846 - val_accuracy: 0.6094\n",
      "Epoch 3/100\n",
      "1920/2048 [===========================>..] - ETA: 0s - loss: 0.6331 - accuracy: 0.7161INFO:tensorflow:Assets written to: 20210429_101124_transfer_learning_35_2.tf\\assets\n",
      "2048/2048 [==============================] - 5s 2ms/sample - loss: 0.6281 - accuracy: 0.7192 - val_loss: 0.6921 - val_accuracy: 0.7292\n",
      "Epoch 4/100\n",
      "2048/2048 [==============================] - 3s 2ms/sample - loss: 0.5962 - accuracy: 0.7241 - val_loss: 0.7652 - val_accuracy: 0.6875\n",
      "Epoch 5/100\n",
      "1920/2048 [===========================>..] - ETA: 0s - loss: 0.5748 - accuracy: 0.7443 ETA: 1s - loss: 0.5693 - acINFO:tensorflow:Assets written to: 20210429_101124_transfer_learning_35_2.tf\\assets\n",
      "2048/2048 [==============================] - 5s 2ms/sample - loss: 0.5780 - accuracy: 0.7441 - val_loss: 0.6793 - val_accuracy: 0.7448\n",
      "Epoch 6/100\n",
      "1920/2048 [===========================>..] - ETA: 0s - loss: 0.5430 - accuracy: 0.7594 ETA: 2s - loss: 0.5934 - ac - ETA: 1s - loss: 0.5438 - accuraINFO:tensorflow:Assets written to: 20210429_101124_transfer_learning_35_2.tf\\assets\n",
      "2048/2048 [==============================] - 5s 2ms/sample - loss: 0.5420 - accuracy: 0.7607 - val_loss: 0.6415 - val_accuracy: 0.7656\n",
      "Epoch 7/100\n",
      "1920/2048 [===========================>..] - ETA: 0s - loss: 0.5328 - accuracy: 0.7693 ETA: 2s - loss:INFO:tensorflow:Assets written to: 20210429_101124_transfer_learning_35_2.tf\\assets\n",
      "2048/2048 [==============================] - 5s 2ms/sample - loss: 0.5320 - accuracy: 0.7686 - val_loss: 0.6001 - val_accuracy: 0.7865\n",
      "Epoch 8/100\n",
      "1920/2048 [===========================>..] - ETA: 0s - loss: 0.4954 - accuracy: 0.7755INFO:tensorflow:Assets written to: 20210429_101124_transfer_learning_35_2.tf\\assets\n",
      "2048/2048 [==============================] - 5s 2ms/sample - loss: 0.4944 - accuracy: 0.7764 - val_loss: 0.5733 - val_accuracy: 0.7812\n",
      "Epoch 9/100\n",
      "2048/2048 [==============================] - 3s 2ms/sample - loss: 0.4669 - accuracy: 0.7856 - val_loss: 0.6054 - val_accuracy: 0.7917\n",
      "Epoch 10/100\n",
      "2048/2048 [==============================] - 3s 2ms/sample - loss: 0.4474 - accuracy: 0.8062 - val_loss: 0.5742 - val_accuracy: 0.8021\n",
      "Epoch 11/100\n",
      "1920/2048 [===========================>..] - ETA: 0s - loss: 0.4484 - accuracy: 0.8031INFO:tensorflow:Assets written to: 20210429_101124_transfer_learning_35_2.tf\\assets\n",
      "2048/2048 [==============================] - 5s 2ms/sample - loss: 0.4419 - accuracy: 0.8037 - val_loss: 0.5389 - val_accuracy: 0.8177\n",
      "Epoch 12/100\n",
      "2048/2048 [==============================] - 3s 2ms/sample - loss: 0.4089 - accuracy: 0.8169 - val_loss: 0.5682 - val_accuracy: 0.8125\n",
      "Epoch 13/100\n",
      "1920/2048 [===========================>..] - ETA: 0s - loss: 0.4009 - accuracy: 0.8396INFO:tensorflow:Assets written to: 20210429_101124_transfer_learning_35_2.tf\\assets\n",
      "2048/2048 [==============================] - 5s 2ms/sample - loss: 0.3985 - accuracy: 0.8374 - val_loss: 0.5157 - val_accuracy: 0.8073\n",
      "Epoch 14/100\n",
      "2048/2048 [==============================] - 3s 2ms/sample - loss: 0.3498 - accuracy: 0.8525 - val_loss: 0.5687 - val_accuracy: 0.8229\n",
      "Epoch 15/100\n",
      "2048/2048 [==============================] - 3s 2ms/sample - loss: 0.3377 - accuracy: 0.8516 - val_loss: 0.5986 - val_accuracy: 0.8333\n",
      "Epoch 16/100\n",
      "2048/2048 [==============================] - 3s 2ms/sample - loss: 0.3518 - accuracy: 0.8560 - val_loss: 0.5209 - val_accuracy: 0.8281s: 0.3505 - accuracy: 0.85\n",
      "Epoch 17/100\n",
      "2048/2048 [==============================] - 3s 2ms/sample - loss: 0.2993 - accuracy: 0.8789 - val_loss: 0.5596 - val_accuracy: 0.8490\n",
      "Epoch 18/100\n",
      "1920/2048 [===========================>..] - ETA: 0s - loss: 0.3308 - accuracy: 0.8620INFO:tensorflow:Assets written to: 20210429_101124_transfer_learning_35_2.tf\\assets\n",
      "2048/2048 [==============================] - 5s 2ms/sample - loss: 0.3356 - accuracy: 0.8623 - val_loss: 0.4383 - val_accuracy: 0.8490\n",
      "Epoch 19/100\n",
      "2048/2048 [==============================] - 3s 2ms/sample - loss: 0.3073 - accuracy: 0.8726 - val_loss: 0.5818 - val_accuracy: 0.8490\n",
      "Epoch 20/100\n",
      "2048/2048 [==============================] - 3s 2ms/sample - loss: 0.2838 - accuracy: 0.8828 - val_loss: 0.5031 - val_accuracy: 0.8542s: 0.2826 - accuracy: 0.\n",
      "Epoch 21/100\n",
      "2048/2048 [==============================] - 3s 2ms/sample - loss: 0.2834 - accuracy: 0.8799 - val_loss: 0.4462 - val_accuracy: 0.8594\n",
      "Epoch 22/100\n",
      "1920/2048 [===========================>..] - ETA: 0s - loss: 0.2546 - accuracy: 0.8896INFO:tensorflow:Assets written to: 20210429_101124_transfer_learning_35_2.tf\\assets\n",
      "2048/2048 [==============================] - 5s 2ms/sample - loss: 0.2541 - accuracy: 0.8887 - val_loss: 0.4232 - val_accuracy: 0.8698\n",
      "Epoch 23/100\n",
      "2048/2048 [==============================] - 3s 2ms/sample - loss: 0.2254 - accuracy: 0.9087 - val_loss: 0.4618 - val_accuracy: 0.8698\n",
      "Epoch 24/100\n",
      "2048/2048 [==============================] - 3s 2ms/sample - loss: 0.2305 - accuracy: 0.9136 - val_loss: 0.4826 - val_accuracy: 0.8750\n",
      "Epoch 25/100\n",
      "1920/2048 [===========================>..] - ETA: 0s - loss: 0.2296 - accuracy: 0.9010INFO:tensorflow:Assets written to: 20210429_101124_transfer_learning_35_2.tf\\assets\n",
      "2048/2048 [==============================] - 5s 2ms/sample - loss: 0.2370 - accuracy: 0.8989 - val_loss: 0.4020 - val_accuracy: 0.8594\n",
      "Epoch 26/100\n",
      "2048/2048 [==============================] - 3s 2ms/sample - loss: 0.2251 - accuracy: 0.9097 - val_loss: 0.5260 - val_accuracy: 0.8646oss: 0.2355 - accuracy\n",
      "Epoch 27/100\n",
      "2048/2048 [==============================] - 3s 2ms/sample - loss: 0.2158 - accuracy: 0.9136 - val_loss: 0.5524 - val_accuracy: 0.8750\n",
      "Epoch 28/100\n",
      "2048/2048 [==============================] - 3s 2ms/sample - loss: 0.1887 - accuracy: 0.9316 - val_loss: 0.5812 - val_accuracy: 0.8542\n",
      "Epoch 29/100\n",
      "2048/2048 [==============================] - 3s 2ms/sample - loss: 0.2288 - accuracy: 0.9058 - val_loss: 0.4990 - val_accuracy: 0.8698\n",
      "Epoch 30/100\n",
      "2048/2048 [==============================] - 3s 2ms/sample - loss: 0.2063 - accuracy: 0.9233 - val_loss: 0.4937 - val_accuracy: 0.8802\n",
      "Epoch 31/100\n",
      "2048/2048 [==============================] - 3s 2ms/sample - loss: 0.1843 - accuracy: 0.9375 - val_loss: 0.4800 - val_accuracy: 0.88025 - accuracy\n",
      "Epoch 32/100\n",
      "2048/2048 [==============================] - 3s 2ms/sample - loss: 0.1575 - accuracy: 0.9355 - val_loss: 0.5482 - val_accuracy: 0.8802\n",
      "Epoch 33/100\n",
      "2048/2048 [==============================] - 3s 2ms/sample - loss: 0.1565 - accuracy: 0.9351 - val_loss: 0.5821 - val_accuracy: 0.8646\n",
      "Epoch 34/100\n",
      "2048/2048 [==============================] - 3s 2ms/sample - loss: 0.1604 - accuracy: 0.9360 - val_loss: 0.5801 - val_accuracy: 0.8750\n",
      "Epoch 35/100\n",
      "2048/2048 [==============================] - 3s 2ms/sample - loss: 0.1496 - accuracy: 0.9409 - val_loss: 0.5961 - val_accuracy: 0.8854\n",
      "Epoch 36/100\n",
      "2048/2048 [==============================] - 3s 2ms/sample - loss: 0.1345 - accuracy: 0.9526 - val_loss: 0.5583 - val_accuracy: 0.8750\n",
      "Epoch 37/100\n",
      "2048/2048 [==============================] - 3s 2ms/sample - loss: 0.1348 - accuracy: 0.9492 - val_loss: 0.4951 - val_accuracy: 0.8854\n",
      "Epoch 38/100\n",
      "1920/2048 [===========================>..] - ETA: 0s - loss: 0.1148 - accuracy: 0.9568 ETA: 1s - loss: 0.1085 - accuINFO:tensorflow:Assets written to: 20210429_101124_transfer_learning_35_2.tf\\assets\n",
      "2048/2048 [==============================] - 5s 3ms/sample - loss: 0.1149 - accuracy: 0.9565 - val_loss: 0.3668 - val_accuracy: 0.8802\n",
      "Epoch 39/100\n",
      "2048/2048 [==============================] - 3s 2ms/sample - loss: 0.1398 - accuracy: 0.9487 - val_loss: 0.7296 - val_accuracy: 0.8542\n",
      "Epoch 40/100\n",
      "2048/2048 [==============================] - 3s 2ms/sample - loss: 0.1118 - accuracy: 0.9580 - val_loss: 0.6098 - val_accuracy: 0.8854\n",
      "Epoch 41/100\n",
      "2048/2048 [==============================] - 3s 2ms/sample - loss: 0.1069 - accuracy: 0.9600 - val_loss: 0.5090 - val_accuracy: 0.8906\n",
      "Epoch 42/100\n",
      "2048/2048 [==============================] - 3s 2ms/sample - loss: 0.0967 - accuracy: 0.9668 - val_loss: 0.5893 - val_accuracy: 0.8802\n",
      "Epoch 43/100\n",
      "2048/2048 [==============================] - 3s 2ms/sample - loss: 0.0928 - accuracy: 0.9683 - val_loss: 0.6741 - val_accuracy: 0.8802\n",
      "Epoch 44/100\n",
      "2048/2048 [==============================] - 3s 2ms/sample - loss: 0.0901 - accuracy: 0.9634 - val_loss: 0.6924 - val_accuracy: 0.8854\n",
      "Epoch 45/100\n",
      "2048/2048 [==============================] - 3s 2ms/sample - loss: 0.0997 - accuracy: 0.9624 - val_loss: 0.5595 - val_accuracy: 0.8906\n",
      "Epoch 46/100\n",
      "2048/2048 [==============================] - 3s 2ms/sample - loss: 0.0973 - accuracy: 0.9648 - val_loss: 0.4349 - val_accuracy: 0.8906\n",
      "Epoch 47/100\n",
      "2048/2048 [==============================] - 3s 2ms/sample - loss: 0.0809 - accuracy: 0.9697 - val_loss: 0.6293 - val_accuracy: 0.8750\n",
      "Epoch 48/100\n",
      "2048/2048 [==============================] - 3s 2ms/sample - loss: 0.0996 - accuracy: 0.9609 - val_loss: 0.5860 - val_accuracy: 0.8698\n",
      "Epoch 49/100\n",
      "2048/2048 [==============================] - 3s 2ms/sample - loss: 0.1186 - accuracy: 0.9585 - val_loss: 0.5017 - val_accuracy: 0.8594\n",
      "Epoch 50/100\n",
      "2048/2048 [==============================] - 3s 2ms/sample - loss: 0.1195 - accuracy: 0.9521 - val_loss: 0.5109 - val_accuracy: 0.8854\n",
      "Epoch 51/100\n",
      "2048/2048 [==============================] - 3s 2ms/sample - loss: 0.0895 - accuracy: 0.9668 - val_loss: 0.6134 - val_accuracy: 0.8854\n",
      "Epoch 52/100\n",
      "2048/2048 [==============================] - 3s 2ms/sample - loss: 0.0859 - accuracy: 0.9668 - val_loss: 0.6982 - val_accuracy: 0.8750\n",
      "Epoch 53/100\n",
      "2048/2048 [==============================] - 3s 2ms/sample - loss: 0.0829 - accuracy: 0.9746 - val_loss: 0.6960 - val_accuracy: 0.8750\n",
      "Epoch 54/100\n",
      "2048/2048 [==============================] - 4s 2ms/sample - loss: 0.0620 - accuracy: 0.9785 - val_loss: 0.5460 - val_accuracy: 0.8854\n",
      "Epoch 55/100\n",
      "2048/2048 [==============================] - 4s 2ms/sample - loss: 0.1052 - accuracy: 0.9678 - val_loss: 0.5005 - val_accuracy: 0.9010\n",
      "Epoch 56/100\n",
      "1920/2048 [===========================>..] - ETA: 0s - loss: 0.1085 - accuracy: 0.9615INFO:tensorflow:Assets written to: 20210429_101124_transfer_learning_35_2.tf\\assets\n",
      "2048/2048 [==============================] - 5s 3ms/sample - loss: 0.1061 - accuracy: 0.9624 - val_loss: 0.3282 - val_accuracy: 0.9010\n",
      "Epoch 57/100\n",
      "2048/2048 [==============================] - 4s 2ms/sample - loss: 0.0923 - accuracy: 0.9697 - val_loss: 0.5017 - val_accuracy: 0.8802\n",
      "Epoch 58/100\n",
      "2048/2048 [==============================] - 4s 2ms/sample - loss: 0.0582 - accuracy: 0.9814 - val_loss: 0.5049 - val_accuracy: 0.8906\n",
      "Epoch 59/100\n",
      "2048/2048 [==============================] - 4s 2ms/sample - loss: 0.0537 - accuracy: 0.9829 - val_loss: 0.6380 - val_accuracy: 0.8854\n",
      "Epoch 60/100\n",
      "2048/2048 [==============================] - 4s 2ms/sample - loss: 0.0748 - accuracy: 0.9761 - val_loss: 0.4795 - val_accuracy: 0.8958\n",
      "Epoch 61/100\n",
      "2048/2048 [==============================] - 4s 2ms/sample - loss: 0.0694 - accuracy: 0.9756 - val_loss: 0.5170 - val_accuracy: 0.8906\n",
      "Epoch 62/100\n",
      "2048/2048 [==============================] - 4s 2ms/sample - loss: 0.0721 - accuracy: 0.9766 - val_loss: 0.5879 - val_accuracy: 0.8854\n",
      "Epoch 63/100\n",
      "2048/2048 [==============================] - 3s 2ms/sample - loss: 0.0759 - accuracy: 0.9736 - val_loss: 0.5158 - val_accuracy: 0.8906\n",
      "Epoch 64/100\n",
      "2048/2048 [==============================] - 3s 2ms/sample - loss: 0.0537 - accuracy: 0.9785 - val_loss: 0.6310 - val_accuracy: 0.9010\n",
      "Epoch 65/100\n",
      "2048/2048 [==============================] - 3s 2ms/sample - loss: 0.0509 - accuracy: 0.9790 - val_loss: 0.5825 - val_accuracy: 0.8854\n",
      "Epoch 66/100\n",
      "2048/2048 [==============================] - 3s 2ms/sample - loss: 0.0400 - accuracy: 0.9829 - val_loss: 0.6984 - val_accuracy: 0.8854\n",
      "Epoch 67/100\n",
      "2048/2048 [==============================] - 3s 2ms/sample - loss: 0.0329 - accuracy: 0.9893 - val_loss: 0.7103 - val_accuracy: 0.8802\n",
      "Epoch 68/100\n",
      "2048/2048 [==============================] - 3s 2ms/sample - loss: 0.0476 - accuracy: 0.9839 - val_loss: 0.7388 - val_accuracy: 0.8906\n",
      "Epoch 69/100\n",
      "2048/2048 [==============================] - 3s 2ms/sample - loss: 0.0493 - accuracy: 0.9814 - val_loss: 0.8599 - val_accuracy: 0.8802\n",
      "Epoch 70/100\n",
      "2048/2048 [==============================] - 3s 2ms/sample - loss: 0.0607 - accuracy: 0.9761 - val_loss: 0.7526 - val_accuracy: 0.8594\n",
      "Epoch 71/100\n",
      "2048/2048 [==============================] - 3s 2ms/sample - loss: 0.0666 - accuracy: 0.9775 - val_loss: 0.6420 - val_accuracy: 0.8958\n",
      "Epoch 72/100\n",
      "2048/2048 [==============================] - 6s 3ms/sample - loss: 0.0456 - accuracy: 0.9829 - val_loss: 0.7315 - val_accuracy: 0.8958\n",
      "Epoch 73/100\n",
      "2048/2048 [==============================] - 6s 3ms/sample - loss: 0.0488 - accuracy: 0.9849 - val_loss: 0.8788 - val_accuracy: 0.8854\n",
      "Epoch 74/100\n",
      "2048/2048 [==============================] - 6s 3ms/sample - loss: 0.0742 - accuracy: 0.9746 - val_loss: 0.5572 - val_accuracy: 0.8906\n",
      "Epoch 75/100\n",
      "2048/2048 [==============================] - 6s 3ms/sample - loss: 0.0532 - accuracy: 0.9819 - val_loss: 0.6766 - val_accuracy: 0.8906\n",
      "Epoch 76/100\n",
      "2048/2048 [==============================] - 7s 3ms/sample - loss: 0.0360 - accuracy: 0.9858 - val_loss: 0.6792 - val_accuracy: 0.8958\n",
      "Epoch 77/100\n",
      "2048/2048 [==============================] - 6s 3ms/sample - loss: 0.0430 - accuracy: 0.9849 - val_loss: 0.6839 - val_accuracy: 0.8854\n",
      "Epoch 78/100\n",
      "2048/2048 [==============================] - 6s 3ms/sample - loss: 0.0452 - accuracy: 0.9814 - val_loss: 0.5892 - val_accuracy: 0.8802\n",
      "Epoch 79/100\n",
      "2048/2048 [==============================] - 6s 3ms/sample - loss: 0.0370 - accuracy: 0.9878 - val_loss: 0.5915 - val_accuracy: 0.8802\n",
      "Epoch 80/100\n",
      "2048/2048 [==============================] - 6s 3ms/sample - loss: 0.0298 - accuracy: 0.9917 - val_loss: 0.8499 - val_accuracy: 0.8802\n",
      "Epoch 81/100\n",
      "2048/2048 [==============================] - 6s 3ms/sample - loss: 0.0415 - accuracy: 0.9868 - val_loss: 0.8081 - val_accuracy: 0.8750\n",
      "Epoch 82/100\n",
      "2048/2048 [==============================] - 6s 3ms/sample - loss: 0.0406 - accuracy: 0.9863 - val_loss: 0.4842 - val_accuracy: 0.8854\n",
      "Epoch 83/100\n",
      "2048/2048 [==============================] - 6s 3ms/sample - loss: 0.0306 - accuracy: 0.9888 - val_loss: 0.5263 - val_accuracy: 0.8958\n",
      "Epoch 84/100\n",
      "2048/2048 [==============================] - 6s 3ms/sample - loss: 0.0236 - accuracy: 0.9922 - val_loss: 0.6467 - val_accuracy: 0.8906\n",
      "Epoch 85/100\n",
      "2048/2048 [==============================] - 6s 3ms/sample - loss: 0.0292 - accuracy: 0.9922 - val_loss: 0.7797 - val_accuracy: 0.8906\n",
      "Epoch 86/100\n",
      "2048/2048 [==============================] - 6s 3ms/sample - loss: 0.0372 - accuracy: 0.9883 - val_loss: 0.4827 - val_accuracy: 0.8906\n",
      "Epoch 87/100\n",
      "2048/2048 [==============================] - 6s 3ms/sample - loss: 0.0439 - accuracy: 0.9863 - val_loss: 0.7319 - val_accuracy: 0.8854\n",
      "Epoch 88/100\n",
      "2048/2048 [==============================] - 6s 3ms/sample - loss: 0.0332 - accuracy: 0.9863 - val_loss: 0.6463 - val_accuracy: 0.8906\n",
      "Epoch 89/100\n",
      "2048/2048 [==============================] - 6s 3ms/sample - loss: 0.0392 - accuracy: 0.9883 - val_loss: 0.6303 - val_accuracy: 0.9010\n",
      "Epoch 90/100\n",
      "2048/2048 [==============================] - 6s 3ms/sample - loss: 0.0269 - accuracy: 0.9902 - val_loss: 0.5549 - val_accuracy: 0.8958\n",
      "Epoch 91/100\n",
      "2048/2048 [==============================] - 6s 3ms/sample - loss: 0.0328 - accuracy: 0.9868 - val_loss: 0.6112 - val_accuracy: 0.8906\n",
      "Epoch 92/100\n",
      "2048/2048 [==============================] - 6s 3ms/sample - loss: 0.0278 - accuracy: 0.9897 - val_loss: 0.7953 - val_accuracy: 0.8854\n",
      "Epoch 93/100\n",
      "2048/2048 [==============================] - 6s 3ms/sample - loss: 0.0192 - accuracy: 0.9941 - val_loss: 0.7023 - val_accuracy: 0.8958\n",
      "Epoch 94/100\n",
      "2048/2048 [==============================] - 6s 3ms/sample - loss: 0.0207 - accuracy: 0.9937 - val_loss: 0.9002 - val_accuracy: 0.8906\n",
      "Epoch 95/100\n",
      "2048/2048 [==============================] - 6s 3ms/sample - loss: 0.0310 - accuracy: 0.9902 - val_loss: 0.4295 - val_accuracy: 0.8906\n",
      "Epoch 96/100\n",
      "2048/2048 [==============================] - 6s 3ms/sample - loss: 0.0361 - accuracy: 0.9868 - val_loss: 0.4676 - val_accuracy: 0.8906\n",
      "Epoch 97/100\n",
      "2048/2048 [==============================] - 6s 3ms/sample - loss: 0.0303 - accuracy: 0.9888 - val_loss: 0.6266 - val_accuracy: 0.9010\n",
      "Epoch 98/100\n",
      "2048/2048 [==============================] - 6s 3ms/sample - loss: 0.0266 - accuracy: 0.9897 - val_loss: 0.5836 - val_accuracy: 0.8750\n",
      "Epoch 99/100\n",
      "2048/2048 [==============================] - 6s 3ms/sample - loss: 0.0408 - accuracy: 0.9878 - val_loss: 0.6780 - val_accuracy: 0.8750\n",
      "Epoch 100/100\n",
      "2048/2048 [==============================] - 6s 3ms/sample - loss: 0.0285 - accuracy: 0.9927 - val_loss: 0.7795 - val_accuracy: 0.8906\n"
     ]
    }
   ],
   "source": [
    "history = new_model.fit(x_train, y_train, epochs=100, batch_size=128, validation_data=(x_test, y_test), callbacks=[ck])"
   ]
  },
  {
   "cell_type": "code",
   "execution_count": 48,
   "metadata": {},
   "outputs": [
    {
     "data": {
      "image/png": "[encoded data removed]",
      "text/plain": [
       "<Figure size 1152x648 with 2 Axes>"
      ]
     },
     "metadata": {
      "needs_background": "light"
     },
     "output_type": "display_data"
    }
   ],
   "source": [
    "fig, loss_ax = plt.subplots()\n",
    "acc_ax = loss_ax.twinx()\n",
    "loss_ax.plot(history.history['loss'], 'y', label='Train loss')\n",
    "loss_ax.plot(history.history['val_loss'], 'r', label='Val loss')\n",
    "loss_ax.set_xlabel(\"epochs\")\n",
    "loss_ax.set_ylabel(\"loss\")\n",
    "loss_ax.legend(loc='upper right')\n",
    "\n",
    "acc_ax.plot(history.history['accuracy'], 'b', label = 'Train acc')\n",
    "acc_ax.plot(history.history['val_accuracy'], 'g', label = 'Val acc')\n",
    "acc_ax.set_xlabel(\"Accuracy\")\n",
    "acc_ax.legend(loc=\"upper left\")\n",
    "\n",
    "fig.set_figwidth(16)\n",
    "fig.set_figheight(9)\n",
    "\n",
    "plt.show()"
   ]
  },
  {
   "cell_type": "code",
   "execution_count": 49,
   "metadata": {},
   "outputs": [
    {
     "name": "stdout",
     "output_type": "stream",
     "text": [
      "192/192 [==============================] - 0s 895us/sample - loss: 0.7795 - accuracy: 0.8906\n"
     ]
    },
    {
     "data": {
      "text/plain": [
       "[0.77947937692079, 0.890625]"
      ]
     },
     "execution_count": 49,
     "metadata": {},
     "output_type": "execute_result"
    }
   ],
   "source": [
    "new_model.evaluate(x_test, y_test)"
   ]
  },
  {
   "cell_type": "code",
   "execution_count": 26,
   "metadata": {},
   "outputs": [],
   "source": [
    "test_model = load_model(f'{start.strftime(\"%Y%m%d_%H%M%S\")}_transfer_learning_{train_sample}_2.tf')"
   ]
  },
  {
   "cell_type": "code",
   "execution_count": 27,
   "metadata": {},
   "outputs": [],
   "source": [
    "roi = setting_roi('33A_201')"
   ]
  },
  {
   "cell_type": "code",
   "execution_count": 28,
   "metadata": {},
   "outputs": [],
   "source": [
    "width, height = 150, 150"
   ]
  },
  {
   "cell_type": "code",
   "execution_count": 29,
   "metadata": {},
   "outputs": [],
   "source": [
    "test_path = \"./test\""
   ]
  },
  {
   "cell_type": "code",
   "execution_count": 30,
   "metadata": {},
   "outputs": [],
   "source": [
    "categories = os.listdir(test_path)"
   ]
  },
  {
   "cell_type": "code",
   "execution_count": 31,
   "metadata": {},
   "outputs": [],
   "source": [
    "cat_kor = ['건조_주간', '건조_야간', '습윤_주간', '습윤_야간']"
   ]
  },
  {
   "cell_type": "code",
   "execution_count": 32,
   "metadata": {},
   "outputs": [
    {
     "name": "stdout",
     "output_type": "stream",
     "text": [
      "건조_주간: 96.50%\n",
      "건조_야간: 100.00%\n",
      "습윤_주간: 95.75%\n",
      "습윤_야간: 99.12%\n"
     ]
    }
   ],
   "source": [
    "for cat in categories:\n",
    "    path = f\"{test_path}/{cat}\"\n",
    "    img_list = fnmatch.filter(os.listdir(path), \"*.jpg\")\n",
    "    \n",
    "    label = categories.index(cat)\n",
    "    count = 0\n",
    "    \n",
    "    for imgs in img_list:\n",
    "        roi_set = []\n",
    "        img_path = f\"{path}/{imgs}\"\n",
    "        img = cv2.imread(img_path)\n",
    "        for (i, j) in roi:\n",
    "            x, y = i * width, j * height\n",
    "            roi_img = img[y:y+height, x:x+width]\n",
    "            roi_set.append(roi_img)\n",
    "        \n",
    "        roi_set = np.array(roi_set) / 255.\n",
    "        roi_set = roi_set.reshape(-1, width, height, 3)\n",
    "        \n",
    "        preds = test_model.predict(roi_set)\n",
    "        \n",
    "        pred_values = []\n",
    "        \n",
    "        for pred in preds:\n",
    "            pred_values.append(np.argmax(pred))\n",
    "            \n",
    "        pred_list = []\n",
    "        \n",
    "        for i in range(len(categories)):\n",
    "            pred_list.append(pred_values.count(i))\n",
    "            \n",
    "        \n",
    "        if np.argmax(pred_list) == label:\n",
    "            count += 1\n",
    "    \n",
    "    print(f\"{cat_kor[label]}: {count / len(img_list) * 100:.2f}%\")\n",
    "            "
   ]
  },
  {
   "cell_type": "code",
   "execution_count": null,
   "metadata": {},
   "outputs": [],
   "source": []
  },
  {
   "cell_type": "code",
   "execution_count": null,
   "metadata": {},
   "outputs": [],
   "source": []
  },
  {
   "cell_type": "code",
   "execution_count": null,
   "metadata": {},
   "outputs": [],
   "source": []
  },
  {
   "cell_type": "code",
   "execution_count": null,
   "metadata": {},
   "outputs": [],
   "source": []
  },
  {
   "cell_type": "code",
   "execution_count": null,
   "metadata": {},
   "outputs": [],
   "source": []
  },
  {
   "cell_type": "code",
   "execution_count": null,
   "metadata": {},
   "outputs": [],
   "source": []
  },
  {
   "cell_type": "code",
   "execution_count": null,
   "metadata": {},
   "outputs": [],
   "source": []
  },
  {
   "cell_type": "code",
   "execution_count": null,
   "metadata": {},
   "outputs": [],
   "source": []
  },
  {
   "cell_type": "code",
   "execution_count": null,
   "metadata": {},
   "outputs": [],
   "source": []
  },
  {
   "cell_type": "code",
   "execution_count": null,
   "metadata": {},
   "outputs": [],
   "source": []
  },
  {
   "cell_type": "code",
   "execution_count": null,
   "metadata": {},
   "outputs": [],
   "source": []
  },
  {
   "cell_type": "code",
   "execution_count": null,
   "metadata": {},
   "outputs": [],
   "source": []
  },
  {
   "cell_type": "code",
   "execution_count": null,
   "metadata": {},
   "outputs": [],
   "source": []
  },
  {
   "cell_type": "code",
   "execution_count": null,
   "metadata": {},
   "outputs": [],
   "source": []
  },
  {
   "cell_type": "code",
   "execution_count": null,
   "metadata": {},
   "outputs": [],
   "source": []
  },
  {
   "cell_type": "code",
   "execution_count": null,
   "metadata": {},
   "outputs": [],
   "source": []
  },
  {
   "cell_type": "code",
   "execution_count": null,
   "metadata": {},
   "outputs": [],
   "source": []
  },
  {
   "cell_type": "code",
   "execution_count": null,
   "metadata": {},
   "outputs": [],
   "source": []
  },
  {
   "cell_type": "code",
   "execution_count": null,
   "metadata": {},
   "outputs": [],
   "source": []
  },
  {
   "cell_type": "code",
   "execution_count": null,
   "metadata": {},
   "outputs": [],
   "source": []
  }
 ],
 "metadata": {
  "kernelspec": {
   "display_name": "Python 3",
   "language": "python",
   "name": "python3"
  },
  "language_info": {
   "codemirror_mode": {
    "name": "ipython",
    "version": 3
   },
   "file_extension": ".py",
   "mimetype": "text/x-python",
   "name": "python",
   "nbconvert_exporter": "python",
   "pygments_lexer": "ipython3",
   "version": "3.6.13"
  }
 },
 "nbformat": 4,
 "nbformat_minor": 4
}
