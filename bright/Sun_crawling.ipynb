{
 "cells": [
  {
   "cell_type": "code",
   "execution_count": 11,
   "metadata": {},
   "outputs": [],
   "source": [
    "import pandas as pd\n",
    "import time\n",
    "import re\n",
    "import datetime"
   ]
  },
  {
   "cell_type": "code",
   "execution_count": 12,
   "metadata": {},
   "outputs": [],
   "source": [
    "from selenium import webdriver\n",
    "from bs4 import BeautifulSoup\n",
    "from tqdm import tqdm"
   ]
  },
  {
   "cell_type": "code",
   "execution_count": 13,
   "metadata": {},
   "outputs": [],
   "source": [
    "driver = webdriver.Chrome('chromedriver')\n",
    "driver.implicitly_wait(3)"
   ]
  },
  {
   "cell_type": "code",
   "execution_count": 14,
   "metadata": {},
   "outputs": [],
   "source": [
    "start_date = datetime.date(2020, 10, 1)\n",
    "end_date = datetime.date.today()"
   ]
  },
  {
   "cell_type": "code",
   "execution_count": 15,
   "metadata": {},
   "outputs": [
    {
     "data": {
      "text/plain": [
       "'2020-10-01'"
      ]
     },
     "execution_count": 15,
     "metadata": {},
     "output_type": "execute_result"
    }
   ],
   "source": [
    "start_date.strftime('%Y-%m-%d')"
   ]
  },
  {
   "cell_type": "code",
   "execution_count": 16,
   "metadata": {},
   "outputs": [],
   "source": [
    "between_days = abs(end_date - start_date).days"
   ]
  },
  {
   "cell_type": "code",
   "execution_count": 17,
   "metadata": {},
   "outputs": [
    {
     "data": {
      "text/plain": [
       "141"
      ]
     },
     "execution_count": 17,
     "metadata": {},
     "output_type": "execute_result"
    }
   ],
   "source": [
    "between_days"
   ]
  },
  {
   "cell_type": "code",
   "execution_count": 18,
   "metadata": {},
   "outputs": [],
   "source": [
    "azi_df = pd.DataFrame(index=range(0))\n",
    "alt_df = pd.DataFrame(index=range(0))"
   ]
  },
  {
   "cell_type": "code",
   "execution_count": 19,
   "metadata": {},
   "outputs": [
    {
     "name": "stderr",
     "output_type": "stream",
     "text": [
      "100%|███████████████████████████████████████████████████████████████████████████████████████████████████████████████████████████████████████████████████████████████████████████| 142/142 [03:31<00:00,  1.49s/it]\n"
     ]
    }
   ],
   "source": [
    "date = start_date\n",
    "for i in tqdm(range(1, between_days+2)):\n",
    "    col_date = date.strftime('%Y-%m-%d')\n",
    "    driver.get(f'https://astro.kasi.re.kr/life/pageView/10?useElevation=1&lat=36.49933008133033&lng=127.32901316025035&elevation=-75.38352425388793&output_range=1&date={date}&hour=12&minute=&second=&address=%EC%84%B8%EC%A2%85%ED%8A%B9%EB%B3%84%EC%9E%90%EC%B9%98%EC%8B%9C+%EC%A7%91%ED%98%84%EC%A4%91%EC%95%997%EB%A1%9C+3#')\n",
    "    html = driver.page_source\n",
    "    soup = BeautifulSoup(html, 'html.parser')\n",
    "    index, azi, alt= [], [], []\n",
    "    for j in range(1, 25):\n",
    "        time = soup.find_all(class_='table tbl_cnt tbl_border tbl_center')[0].find_all('tr')[j].find_all('td')[0].get_text()\n",
    "        azimuth = soup.find_all(class_='table tbl_cnt tbl_border tbl_center')[0].find_all('tr')[j].find_all('td')[1].get_text()\n",
    "        altitude = soup.find_all(class_='table tbl_cnt tbl_border tbl_center')[0].find_all('tr')[j].find_all('td')[2].get_text()\n",
    "#         ascension = soup.find_all(class_='table tbl_cnt tbl_border tbl_center')[0].find_all('tr')[j].find_all('td')[3].get_text()\n",
    "#         declination = soup.find_all(class_='table tbl_cnt tbl_border tbl_center')[0].find_all('tr')[j].find_all('td')[4].get_text()\n",
    "        \n",
    "        index.append(time)\n",
    "        azi.append(azimuth)\n",
    "        alt.append(altitude)\n",
    "#         asc.append(ascension)\n",
    "#         dec.append(declination)\n",
    "        \n",
    "        \n",
    "    df = pd.DataFrame(data=azi, columns=[col_date], index=index)\n",
    "    df2 = pd.DataFrame(data=alt, columns=[col_date], index=index)\n",
    "    \n",
    "    azi_df = pd.concat([azi_df, df], axis=1)\n",
    "    alt_df = pd.concat([alt_df, df2], axis=1)\n",
    "    \n",
    "    date = start_date + datetime.timedelta(days=i)\n",
    "    \n",
    "\n",
    "driver.close()\n",
    "        "
   ]
  },
  {
   "cell_type": "code",
   "execution_count": 21,
   "metadata": {},
   "outputs": [],
   "source": [
    "azi_df.to_csv('방위각.csv')\n",
    "alt_df.to_csv('고도.csv')"
   ]
  },
  {
   "cell_type": "code",
   "execution_count": null,
   "metadata": {},
   "outputs": [],
   "source": []
  },
  {
   "cell_type": "code",
   "execution_count": null,
   "metadata": {},
   "outputs": [],
   "source": []
  },
  {
   "cell_type": "code",
   "execution_count": 33,
   "metadata": {},
   "outputs": [
    {
     "name": "stdout",
     "output_type": "stream",
     "text": [
      "-63\n",
      "-65\n",
      "-59\n",
      "-50\n",
      "-39\n",
      "-27\n",
      "-15\n",
      "-3 \n",
      "07\n",
      "18\n",
      "28\n",
      "35\n",
      "40\n",
      "41\n",
      "38\n",
      "32\n",
      "23\n",
      "13\n",
      "01\n",
      "-9 \n",
      "-21\n",
      "-33\n",
      "-45\n",
      "-55\n"
     ]
    }
   ],
   "source": [
    "for i in range(len(alt)):\n",
    "    if alt[i][0] == '-':\n",
    "        print(alt[i][0:3])\n",
    "    else:\n",
    "        print(alt[i][0:2])"
   ]
  }
 ],
 "metadata": {
  "kernelspec": {
   "display_name": "Python 3",
   "language": "python",
   "name": "python3"
  },
  "language_info": {
   "codemirror_mode": {
    "name": "ipython",
    "version": 3
   },
   "file_extension": ".py",
   "mimetype": "text/x-python",
   "name": "python",
   "nbconvert_exporter": "python",
   "pygments_lexer": "ipython3",
   "version": "3.7.9"
  }
 },
 "nbformat": 4,
 "nbformat_minor": 4
}
